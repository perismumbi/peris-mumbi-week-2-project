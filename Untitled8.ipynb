{
  "nbformat": 4,
  "nbformat_minor": 0,
  "metadata": {
    "colab": {
      "provenance": []
    },
    "kernelspec": {
      "name": "python3",
      "display_name": "Python 3"
    },
    "language_info": {
      "name": "python"
    }
  },
  "cells": [
    {
      "cell_type": "code",
      "execution_count": null,
      "metadata": {
        "colab": {
          "base_uri": "https://localhost:8080/"
        },
        "id": "6uby1uDItFjh",
        "outputId": "464e9158-c77f-4ff1-93c1-ffa763b6ac59"
      },
      "outputs": [
        {
          "output_type": "stream",
          "name": "stdout",
          "text": [
            "Collecting pymysql\n",
            "  Downloading PyMySQL-1.1.0-py3-none-any.whl (44 kB)\n",
            "\u001b[?25l     \u001b[90m━━━━━━━━━━━━━━━━━━━━━━━━━━━━━━━━━━━━━━━━\u001b[0m \u001b[32m0.0/44.8 kB\u001b[0m \u001b[31m?\u001b[0m eta \u001b[36m-:--:--\u001b[0m\r\u001b[2K     \u001b[90m━━━━━━━━━━━━━━━━━━━━━━━━━━━━━━━━━━━━━━━━\u001b[0m \u001b[32m44.8/44.8 kB\u001b[0m \u001b[31m1.9 MB/s\u001b[0m eta \u001b[36m0:00:00\u001b[0m\n",
            "\u001b[?25hInstalling collected packages: pymysql\n",
            "Successfully installed pymysql-1.1.0\n"
          ]
        }
      ],
      "source": [
        "!pip install pymysql"
      ]
    },
    {
      "cell_type": "code",
      "source": [
        "%load_ext sql"
      ],
      "metadata": {
        "id": "hJ6qDCY4tQPb"
      },
      "execution_count": null,
      "outputs": []
    },
    {
      "cell_type": "code",
      "source": [
        "%sql sqlite:///zinduaschool"
      ],
      "metadata": {
        "id": "JrsFeFcMtUTo"
      },
      "execution_count": null,
      "outputs": []
    },
    {
      "cell_type": "code",
      "source": [
        "%sql create table personal_details(national_id int,stud_id varchar(15),stud_name varchar(100),phone_number varchar(15),age int,gender varchar(10),primary key(national_id));"
      ],
      "metadata": {
        "colab": {
          "base_uri": "https://localhost:8080/"
        },
        "id": "K7DufqOsta1C",
        "outputId": "9b4d8cbf-bb75-4435-d994-11bc03b49fec"
      },
      "execution_count": null,
      "outputs": [
        {
          "output_type": "stream",
          "name": "stdout",
          "text": [
            " * sqlite:///zinduaschool\n",
            "Done.\n"
          ]
        },
        {
          "output_type": "execute_result",
          "data": {
            "text/plain": [
              "[]"
            ]
          },
          "metadata": {},
          "execution_count": 4
        }
      ]
    },
    {
      "cell_type": "code",
      "source": [
        "%%sql insert into personal_details(national_id,stud_id,stud_name,phone_number,age,gender) values\n",
        "(\"344534\",\"stud101\",\"Hermione Granger\" ,\"0712345678\",20,\"Male\"),\n",
        "(\"379683\",\"stud102\",\"Draco Malfo\" ,\"0723456781\",21,\"Female\"),\n",
        "(\"347403\",\"stud103\",\"Jayden Wamashati\" ,\"0734567812\",22,\"Male\"),\n",
        "(\"377302\",\"stud104\",\"Ron Weasley\" ,\"0745678123\",19,\"Female\"),\n",
        "(\"336741\",\"stud105\",\"Dolores Umbridge\" ,\"0756781234\",21,\"Male\"),\n",
        "(\"307243\",\"stud106\",\"Hedwig Tonks\" ,\"0767812345\",21,\"Female\"),\n",
        "(\"310932\",\"stud107\",\"Chao Chang\" ,\"0778123456\",22,\"Male\"),\n",
        "(\"343920\",\"stud108\",\"Curfew Yaeitpm\" ,\"0781234567\",20,\"Female\"),\n",
        "(\"345261\",\"stud109\",\"Chaptr Mukenya\" ,\"0722345678\",20,\"Male\"),\n",
        "(\"339152\",\"stud110\",\"Natalie Mpema\" ,\"0733456781\",21,\"Female\"),\n",
        "(\"339746\",\"stud111\",\"Crew Nundi\" ,\"0744567812\",20,\"Male\"),\n",
        "(\"336373\",\"stud112\",\"Bandi Kagunda\" ,\"0755678123\",22,\"Female\"),\n",
        "(\"325252\",\"stud113\",\"Testimony Omolo\" ,\"0766456781\",21,\"Male\"),\n",
        "(\"321746\",\"stud114\",\"Career Mpya\" ,\"0741367812\",20,\"Male\"),\n",
        "(\"390234\",\"stud115\",\"Deamon Anduro\" ,\"0744421123\",22,\"Female\");"
      ],
      "metadata": {
        "colab": {
          "base_uri": "https://localhost:8080/"
        },
        "id": "kWkVSNoetjaw",
        "outputId": "f69c1ac6-1f06-4df5-b8b7-ecf4be0c4eb3"
      },
      "execution_count": null,
      "outputs": [
        {
          "output_type": "stream",
          "name": "stdout",
          "text": [
            " * sqlite:///zinduaschool\n",
            "15 rows affected.\n"
          ]
        },
        {
          "output_type": "execute_result",
          "data": {
            "text/plain": [
              "[]"
            ]
          },
          "metadata": {},
          "execution_count": 5
        }
      ]
    },
    {
      "cell_type": "code",
      "source": [
        "%sql create table school_details(stud_id varchar(15),current_home_county varchar(20),secondary_school_county varchar(20),residence varchar(15),stud_email varchar(50),primary key(stud_id));"
      ],
      "metadata": {
        "colab": {
          "base_uri": "https://localhost:8080/"
        },
        "id": "KsCDKDAltuUt",
        "outputId": "a7485e54-4e52-4dc4-a224-7b680f48129f"
      },
      "execution_count": null,
      "outputs": [
        {
          "output_type": "stream",
          "name": "stdout",
          "text": [
            " * sqlite:///zinduaschool\n",
            "Done.\n"
          ]
        },
        {
          "output_type": "execute_result",
          "data": {
            "text/plain": [
              "[]"
            ]
          },
          "metadata": {},
          "execution_count": 6
        }
      ]
    },
    {
      "cell_type": "code",
      "source": [
        "%%sql INSERT INTO school_details(stud_id)\n",
        "SELECT stud_id\n",
        "FROM personal_details;"
      ],
      "metadata": {
        "colab": {
          "base_uri": "https://localhost:8080/"
        },
        "id": "SRZTZLgFt2Rx",
        "outputId": "f0ba10d6-f86e-4296-f880-038b6833368a"
      },
      "execution_count": null,
      "outputs": [
        {
          "output_type": "stream",
          "name": "stdout",
          "text": [
            " * sqlite:///zinduaschool\n",
            "15 rows affected.\n"
          ]
        },
        {
          "output_type": "execute_result",
          "data": {
            "text/plain": [
              "[]"
            ]
          },
          "metadata": {},
          "execution_count": 7
        }
      ]
    },
    {
      "cell_type": "code",
      "source": [
        "%%sql UPDATE school_details\n",
        "SET stud_email = (\n",
        "    SELECT REPLACE(REPLACE(stud_name, ' ', ''), '@', '') || '@zinduaschool.ac'\n",
        "    FROM personal_details\n",
        "    WHERE school_details.stud_ID = personal_details.stud_ID\n",
        ");"
      ],
      "metadata": {
        "colab": {
          "base_uri": "https://localhost:8080/"
        },
        "id": "BpnE1PEwIDkI",
        "outputId": "99f30d59-bdc9-4ab5-f26f-6ff48f004ec1"
      },
      "execution_count": null,
      "outputs": [
        {
          "output_type": "stream",
          "name": "stdout",
          "text": [
            " * sqlite:///zinduaschool\n",
            "15 rows affected.\n"
          ]
        },
        {
          "output_type": "execute_result",
          "data": {
            "text/plain": [
              "[]"
            ]
          },
          "metadata": {},
          "execution_count": 8
        }
      ]
    },
    {
      "cell_type": "code",
      "source": [
        "%%sql\n",
        "\n",
        "UPDATE school_details\n",
        "SET current_home_county = 'Nakuru', secondary_school_county = 'Nairobi', residence = 'In school'\n",
        "WHERE stud_id = 'stud101';\n",
        "\n",
        "UPDATE school_details\n",
        "SET current_home_county = 'Nairobi', secondary_school_county = 'Nakuru', residence = 'In school'\n",
        "WHERE stud_id = 'stud102';\n",
        "\n",
        "UPDATE school_details\n",
        "SET current_home_county = 'Samburu', secondary_school_county = 'Nairobi', residence = 'Out of school'\n",
        "WHERE stud_id = 'stud103';\n",
        "\n",
        "UPDATE school_details\n",
        "SET current_home_county = 'Kericho', secondary_school_county = 'Nairobi', residence = 'In school'\n",
        "WHERE stud_id = 'stud104';\n",
        "\n",
        "UPDATE school_details\n",
        "SET current_home_county = 'Nyamira', secondary_school_county = 'Nakuru', residence = 'In school'\n",
        "WHERE stud_id = 'stud105';\n",
        "\n",
        "UPDATE school_details\n",
        "SET current_home_county = 'Kisumu', secondary_school_county = 'Nairobi', residence = 'Out of school'\n",
        "WHERE stud_id = 'stud106';\n",
        "\n",
        "UPDATE school_details\n",
        "SET current_home_county = 'Nakuru', secondary_school_county = 'Nairobi', residence = 'Out of school'\n",
        "WHERE stud_id = 'stud107';\n",
        "\n",
        "UPDATE school_details\n",
        "SET current_home_county = 'Kisumu', secondary_school_county = 'Mombasa', residence = 'Out of school'\n",
        "WHERE stud_id = 'stud108';\n",
        "\n",
        "UPDATE school_details\n",
        "SET current_home_county = 'Kericho', secondary_school_county = 'Mombasa', residence = 'In school'\n",
        "WHERE stud_id = 'stud109';\n",
        "\n",
        "UPDATE school_details\n",
        "SET current_home_county = 'Nakuru', secondary_school_county = 'Mombasa', residence = 'In school'\n",
        "WHERE stud_id = 'stud110';\n",
        "\n",
        "UPDATE school_details\n",
        "SET current_home_county = 'Kiambu', secondary_school_county = 'Turkana', residence = 'In school'\n",
        "WHERE stud_id = 'stud111';\n",
        "\n",
        "UPDATE school_details\n",
        "SET current_home_county = 'Nairobi', secondary_school_county = 'Nakuru', residence = 'In school'\n",
        "WHERE stud_id = 'stud112';\n",
        "\n",
        "UPDATE school_details\n",
        "SET current_home_county = 'Samburu', secondary_school_county = 'Taita Taveta', residence = 'In school'\n",
        "WHERE stud_id = 'stud113';\n",
        "\n",
        "UPDATE school_details\n",
        "SET current_home_county = 'Kericho', secondary_school_county = 'Nairobi', residence = 'Out of school'\n",
        "WHERE stud_id = 'stud114';\n",
        "\n",
        "UPDATE school_details\n",
        "SET current_home_county = 'Kiambu', secondary_school_county = 'Mombasa', residence = 'In school'\n",
        "WHERE stud_id = 'stud115';\n"
      ],
      "metadata": {
        "colab": {
          "base_uri": "https://localhost:8080/"
        },
        "id": "ERzeBXB3dGG4",
        "outputId": "84b81d9b-2395-48fa-a2b4-32737f0ecb85"
      },
      "execution_count": null,
      "outputs": [
        {
          "output_type": "stream",
          "name": "stdout",
          "text": [
            " * sqlite:///zinduaschool\n",
            "1 rows affected.\n",
            "1 rows affected.\n",
            "1 rows affected.\n",
            "1 rows affected.\n",
            "1 rows affected.\n",
            "1 rows affected.\n",
            "1 rows affected.\n",
            "1 rows affected.\n",
            "1 rows affected.\n",
            "1 rows affected.\n",
            "1 rows affected.\n",
            "1 rows affected.\n",
            "1 rows affected.\n",
            "1 rows affected.\n",
            "1 rows affected.\n"
          ]
        },
        {
          "output_type": "execute_result",
          "data": {
            "text/plain": [
              "[]"
            ]
          },
          "metadata": {},
          "execution_count": 12
        }
      ]
    },
    {
      "cell_type": "code",
      "source": [
        "%sql CREATE TABLE contact_details (stud_email VARCHAR(50) , phone_number VARCHAR(15), next_of_kin_name VARCHAR(50),next_of_kin_relation VARCHAR(10), next_of_kin_contacts VARCHAR(13));"
      ],
      "metadata": {
        "colab": {
          "base_uri": "https://localhost:8080/"
        },
        "id": "L_scBdvT08oU",
        "outputId": "b008317b-7a47-4edc-cc44-db57f5f3c175"
      },
      "execution_count": null,
      "outputs": [
        {
          "output_type": "stream",
          "name": "stdout",
          "text": [
            " * sqlite:///zinduaschool\n",
            "Done.\n"
          ]
        },
        {
          "output_type": "execute_result",
          "data": {
            "text/plain": [
              "[]"
            ]
          },
          "metadata": {},
          "execution_count": 13
        }
      ]
    },
    {
      "cell_type": "code",
      "source": [
        "%%sql INSERT INTO contact_details(phone_number, next_of_kin_name,next_of_kin_relation,next_of_kin_contacts)\n",
        "VALUES(\"0712345678\",\"Darius Young\",\"Father\",\"0782382383\"),\n",
        "(\"0723456781\",\"Lucy Nderitu\",\"Mother\",\"0723238983\"),\n",
        "(\"0734567812\",\"Jerotich Koech\",\"Mother\",\"0779343126\"),\n",
        "(\"0745678123\",\"Mwaura Mwangi\",\"Father\",\"0798246347\"),\n",
        "(\"0756781234\",\"Ian Patrick\",\"Father\",\"0711234453\"),\n",
        "(\"0767812345\",\"Lebron James\",\"Father\",\"0765439233\"),\n",
        "(\"0778123456\",\"Magna Carter\",\"Father\",\"0702526243\"),\n",
        "(\"0781234567\",\"Cindy Wayne\",\"Mother\",\"0747282839\"),\n",
        "(\"0722345678\",\"Farah Maalim\",\"Mother\",\"0753927482\"),\n",
        "(\"0733456781\",\"Faiba Mbugua\",\"Father\",\"0713245748\"),\n",
        "(\"0744567812\",\"John Doe\",\"Father\",\"0725737383\"),\n",
        "(\"0755678123\",\"Klaus Michealson\",\"Father\",\"0789346276\"),\n",
        "(\"0766456781\",\"Suluhu Amdany\",\"Mother\",\"0785739259\"),\n",
        "(\"0741367812\",\"Daisy Auma\",\"Mother\",\"0791344537\"),\n",
        "(\"0755421123\",\"Getrude Karen\",\"Mother\",\"0765748244\");"
      ],
      "metadata": {
        "colab": {
          "base_uri": "https://localhost:8080/"
        },
        "id": "ZmMqgi5w1lwU",
        "outputId": "2c90f833-9d78-438c-a02d-175a8927da28"
      },
      "execution_count": null,
      "outputs": [
        {
          "output_type": "stream",
          "name": "stdout",
          "text": [
            " * sqlite:///zinduaschool\n",
            "15 rows affected.\n"
          ]
        },
        {
          "output_type": "execute_result",
          "data": {
            "text/plain": [
              "[]"
            ]
          },
          "metadata": {},
          "execution_count": 14
        }
      ]
    },
    {
      "cell_type": "code",
      "source": [
        "%%sql UPDATE contact_details\n",
        "SET stud_email = (SELECT school_details.stud_email\n",
        "FROM school_details, personal_details\n",
        "WHERE school_details.stud_ID = personal_details.stud_ID\n",
        "AND personal_details.phone_number = contact_details.phone_number);"
      ],
      "metadata": {
        "colab": {
          "base_uri": "https://localhost:8080/"
        },
        "id": "LoCn0qSD10me",
        "outputId": "7babde7d-ccbd-4690-e537-b2756d41b04c"
      },
      "execution_count": null,
      "outputs": [
        {
          "output_type": "stream",
          "name": "stdout",
          "text": [
            " * sqlite:///zinduaschool\n",
            "15 rows affected.\n"
          ]
        },
        {
          "output_type": "execute_result",
          "data": {
            "text/plain": [
              "[]"
            ]
          },
          "metadata": {},
          "execution_count": 15
        }
      ]
    },
    {
      "cell_type": "code",
      "source": [
        "%sql select * from contact_details;"
      ],
      "metadata": {
        "colab": {
          "base_uri": "https://localhost:8080/",
          "height": 392
        },
        "id": "J4CPQTvnd7iF",
        "outputId": "8516e7e1-31fd-4d90-c6da-bb40ac6120d6"
      },
      "execution_count": null,
      "outputs": [
        {
          "output_type": "stream",
          "name": "stdout",
          "text": [
            " * sqlite:///zinduaschool\n",
            "Done.\n"
          ]
        },
        {
          "output_type": "execute_result",
          "data": {
            "text/plain": [
              "[('HermioneGranger@zinduaschool.ac', '0712345678', 'Darius Young', 'Father', '0782382383'),\n",
              " ('DracoMalfo@zinduaschool.ac', '0723456781', 'Lucy Nderitu', 'Mother', '0723238983'),\n",
              " ('JaydenWamashati@zinduaschool.ac', '0734567812', 'Jerotich Koech', 'Mother', '0779343126'),\n",
              " ('RonWeasley@zinduaschool.ac', '0745678123', 'Mwaura Mwangi', 'Father', '0798246347'),\n",
              " ('DoloresUmbridge@zinduaschool.ac', '0756781234', 'Ian Patrick', 'Father', '0711234453'),\n",
              " ('HedwigTonks@zinduaschool.ac', '0767812345', 'Lebron James', 'Father', '0765439233'),\n",
              " ('ChaoChang@zinduaschool.ac', '0778123456', 'Magna Carter', 'Father', '0702526243'),\n",
              " ('CurfewYaeitpm@zinduaschool.ac', '0781234567', 'Cindy Wayne', 'Mother', '0747282839'),\n",
              " ('ChaptrMukenya@zinduaschool.ac', '0722345678', 'Farah Maalim', 'Mother', '0753927482'),\n",
              " ('NatalieMpema@zinduaschool.ac', '0733456781', 'Faiba Mbugua', 'Father', '0713245748'),\n",
              " ('CrewNundi@zinduaschool.ac', '0744567812', 'John Doe', 'Father', '0725737383'),\n",
              " ('BandiKagunda@zinduaschool.ac', '0755678123', 'Klaus Michealson', 'Father', '0789346276'),\n",
              " ('TestimonyOmolo@zinduaschool.ac', '0766456781', 'Suluhu Amdany', 'Mother', '0785739259'),\n",
              " ('CareerMpya@zinduaschool.ac', '0741367812', 'Daisy Auma', 'Mother', '0791344537'),\n",
              " (None, '0755421123', 'Getrude Karen', 'Mother', '0765748244')]"
            ],
            "text/html": [
              "<table>\n",
              "    <thead>\n",
              "        <tr>\n",
              "            <th>stud_email</th>\n",
              "            <th>phone_number</th>\n",
              "            <th>next_of_kin_name</th>\n",
              "            <th>next_of_kin_relation</th>\n",
              "            <th>next_of_kin_contacts</th>\n",
              "        </tr>\n",
              "    </thead>\n",
              "    <tbody>\n",
              "        <tr>\n",
              "            <td>HermioneGranger@zinduaschool.ac</td>\n",
              "            <td>0712345678</td>\n",
              "            <td>Darius Young</td>\n",
              "            <td>Father</td>\n",
              "            <td>0782382383</td>\n",
              "        </tr>\n",
              "        <tr>\n",
              "            <td>DracoMalfo@zinduaschool.ac</td>\n",
              "            <td>0723456781</td>\n",
              "            <td>Lucy Nderitu</td>\n",
              "            <td>Mother</td>\n",
              "            <td>0723238983</td>\n",
              "        </tr>\n",
              "        <tr>\n",
              "            <td>JaydenWamashati@zinduaschool.ac</td>\n",
              "            <td>0734567812</td>\n",
              "            <td>Jerotich Koech</td>\n",
              "            <td>Mother</td>\n",
              "            <td>0779343126</td>\n",
              "        </tr>\n",
              "        <tr>\n",
              "            <td>RonWeasley@zinduaschool.ac</td>\n",
              "            <td>0745678123</td>\n",
              "            <td>Mwaura Mwangi</td>\n",
              "            <td>Father</td>\n",
              "            <td>0798246347</td>\n",
              "        </tr>\n",
              "        <tr>\n",
              "            <td>DoloresUmbridge@zinduaschool.ac</td>\n",
              "            <td>0756781234</td>\n",
              "            <td>Ian Patrick</td>\n",
              "            <td>Father</td>\n",
              "            <td>0711234453</td>\n",
              "        </tr>\n",
              "        <tr>\n",
              "            <td>HedwigTonks@zinduaschool.ac</td>\n",
              "            <td>0767812345</td>\n",
              "            <td>Lebron James</td>\n",
              "            <td>Father</td>\n",
              "            <td>0765439233</td>\n",
              "        </tr>\n",
              "        <tr>\n",
              "            <td>ChaoChang@zinduaschool.ac</td>\n",
              "            <td>0778123456</td>\n",
              "            <td>Magna Carter</td>\n",
              "            <td>Father</td>\n",
              "            <td>0702526243</td>\n",
              "        </tr>\n",
              "        <tr>\n",
              "            <td>CurfewYaeitpm@zinduaschool.ac</td>\n",
              "            <td>0781234567</td>\n",
              "            <td>Cindy Wayne</td>\n",
              "            <td>Mother</td>\n",
              "            <td>0747282839</td>\n",
              "        </tr>\n",
              "        <tr>\n",
              "            <td>ChaptrMukenya@zinduaschool.ac</td>\n",
              "            <td>0722345678</td>\n",
              "            <td>Farah Maalim</td>\n",
              "            <td>Mother</td>\n",
              "            <td>0753927482</td>\n",
              "        </tr>\n",
              "        <tr>\n",
              "            <td>NatalieMpema@zinduaschool.ac</td>\n",
              "            <td>0733456781</td>\n",
              "            <td>Faiba Mbugua</td>\n",
              "            <td>Father</td>\n",
              "            <td>0713245748</td>\n",
              "        </tr>\n",
              "        <tr>\n",
              "            <td>CrewNundi@zinduaschool.ac</td>\n",
              "            <td>0744567812</td>\n",
              "            <td>John Doe</td>\n",
              "            <td>Father</td>\n",
              "            <td>0725737383</td>\n",
              "        </tr>\n",
              "        <tr>\n",
              "            <td>BandiKagunda@zinduaschool.ac</td>\n",
              "            <td>0755678123</td>\n",
              "            <td>Klaus Michealson</td>\n",
              "            <td>Father</td>\n",
              "            <td>0789346276</td>\n",
              "        </tr>\n",
              "        <tr>\n",
              "            <td>TestimonyOmolo@zinduaschool.ac</td>\n",
              "            <td>0766456781</td>\n",
              "            <td>Suluhu Amdany</td>\n",
              "            <td>Mother</td>\n",
              "            <td>0785739259</td>\n",
              "        </tr>\n",
              "        <tr>\n",
              "            <td>CareerMpya@zinduaschool.ac</td>\n",
              "            <td>0741367812</td>\n",
              "            <td>Daisy Auma</td>\n",
              "            <td>Mother</td>\n",
              "            <td>0791344537</td>\n",
              "        </tr>\n",
              "        <tr>\n",
              "            <td>None</td>\n",
              "            <td>0755421123</td>\n",
              "            <td>Getrude Karen</td>\n",
              "            <td>Mother</td>\n",
              "            <td>0765748244</td>\n",
              "        </tr>\n",
              "    </tbody>\n",
              "</table>"
            ]
          },
          "metadata": {},
          "execution_count": 17
        }
      ]
    },
    {
      "cell_type": "code",
      "source": [
        "# I don't think there is a need for this given the stud_email column already exists\n",
        "\n",
        "%%sql ALTER TABLE contact_details\n",
        "ADD stud_email VARCHAR(50) PRIMARY KEY ;"
      ],
      "metadata": {
        "colab": {
          "base_uri": "https://localhost:8080/"
        },
        "id": "uAkG0XLd2GGS",
        "outputId": "fe442b37-8708-4853-a734-84239036d1bc"
      },
      "execution_count": null,
      "outputs": [
        {
          "output_type": "stream",
          "name": "stdout",
          "text": [
            " * sqlite:///zinduaschool\n",
            "(sqlite3.OperationalError) duplicate column name: stud_email\n",
            "[SQL: ALTER TABLE contact_details\n",
            "ADD stud_email VARCHAR(50) PRIMARY KEY ;]\n",
            "(Background on this error at: https://sqlalche.me/e/20/e3q8)\n"
          ]
        }
      ]
    },
    {
      "cell_type": "code",
      "source": [
        "%%sql CREATE TABLE financial_details(stud_ID VARCHAR(15),stud_name VARCHAR(50),sem_fee INTEGER(6),fee_paid INTEGER(6),\n",
        "primary key(stud_ID));"
      ],
      "metadata": {
        "colab": {
          "base_uri": "https://localhost:8080/"
        },
        "id": "siazuGWB3ein",
        "outputId": "9ee3df9b-989e-4245-fd2c-1a4d894e1f26"
      },
      "execution_count": null,
      "outputs": [
        {
          "output_type": "stream",
          "name": "stdout",
          "text": [
            " * sqlite:///zinduaschool\n",
            "Done.\n"
          ]
        },
        {
          "output_type": "execute_result",
          "data": {
            "text/plain": [
              "[]"
            ]
          },
          "metadata": {},
          "execution_count": 18
        }
      ]
    },
    {
      "cell_type": "code",
      "source": [
        "%%sql insert into financial_details(stud_ID,stud_name)\n",
        "SELECT personal_details.stud_ID, personal_details.stud_name\n",
        "FROM personal_details;"
      ],
      "metadata": {
        "colab": {
          "base_uri": "https://localhost:8080/"
        },
        "id": "wMW6zD__5ixb",
        "outputId": "c8a2cccb-540c-4adb-dfa0-a17fb22acad1"
      },
      "execution_count": null,
      "outputs": [
        {
          "output_type": "stream",
          "name": "stdout",
          "text": [
            " * sqlite:///zinduaschool\n",
            "15 rows affected.\n"
          ]
        },
        {
          "output_type": "execute_result",
          "data": {
            "text/plain": [
              "[]"
            ]
          },
          "metadata": {},
          "execution_count": 19
        }
      ]
    },
    {
      "cell_type": "code",
      "source": [
        "%%sql\n",
        "\n",
        "UPDATE financial_details SET sem_fee = 25000, fee_paid = 25000 WHERE stud_ID = 'stud101';\n",
        "UPDATE financial_details SET sem_fee = 25000, fee_paid = 19000 WHERE stud_ID = 'stud102';\n",
        "UPDATE financial_details SET sem_fee = 21900, fee_paid = 20000 WHERE stud_ID = 'stud103';\n",
        "UPDATE financial_details SET sem_fee = 22000, fee_paid = 22000 WHERE stud_ID = 'stud104';\n",
        "UPDATE financial_details SET sem_fee = 25000, fee_paid = 23400 WHERE stud_ID = 'stud105';\n",
        "UPDATE financial_details SET sem_fee = 25000, fee_paid = 27000 WHERE stud_ID = 'stud106';\n",
        "UPDATE financial_details SET sem_fee = 24230, fee_paid = 21200 WHERE stud_ID = 'stud107';\n",
        "UPDATE financial_details SET sem_fee = 25000, fee_paid = 23500 WHERE stud_ID = 'stud108';\n",
        "UPDATE financial_details SET sem_fee = 25000, fee_paid = 24500 WHERE stud_ID = 'stud109';\n",
        "UPDATE financial_details SET sem_fee = 25000, fee_paid = 25000 WHERE stud_ID = 'stud110';\n",
        "UPDATE financial_details SET sem_fee = 26000, fee_paid = 26000 WHERE stud_ID = 'stud111';\n",
        "UPDATE financial_details SET sem_fee = 25000, fee_paid = 20900 WHERE stud_ID = 'stud112';\n",
        "UPDATE financial_details SET sem_fee = 25000, fee_paid = 22300 WHERE stud_ID = 'stud113';\n",
        "UPDATE financial_details SET sem_fee = 19000, fee_paid = 19000 WHERE stud_ID = 'stud114';\n",
        "UPDATE financial_details SET sem_fee = 20800, fee_paid = 20800 WHERE stud_ID = 'stud115';\n"
      ],
      "metadata": {
        "colab": {
          "base_uri": "https://localhost:8080/"
        },
        "id": "Zk56pnny59Ve",
        "outputId": "f16e6ea6-a803-4ac3-b904-8247cd047956"
      },
      "execution_count": null,
      "outputs": [
        {
          "output_type": "stream",
          "name": "stdout",
          "text": [
            " * sqlite:///zinduaschool\n",
            "1 rows affected.\n",
            "1 rows affected.\n",
            "1 rows affected.\n",
            "1 rows affected.\n",
            "1 rows affected.\n",
            "1 rows affected.\n",
            "1 rows affected.\n",
            "1 rows affected.\n",
            "1 rows affected.\n",
            "1 rows affected.\n",
            "1 rows affected.\n",
            "1 rows affected.\n",
            "1 rows affected.\n",
            "1 rows affected.\n",
            "1 rows affected.\n"
          ]
        },
        {
          "output_type": "execute_result",
          "data": {
            "text/plain": [
              "[]"
            ]
          },
          "metadata": {},
          "execution_count": 21
        }
      ]
    },
    {
      "cell_type": "code",
      "source": [
        "%%sql CREATE VIEW new_stud_details AS\n",
        "SELECT pd.stud_name, sd.stud_ID, sd.stud_email, pd.phone_number\n",
        "FROM personal_details pd\n",
        "JOIN school_details sd ON pd.stud_ID = sd.stud_ID;"
      ],
      "metadata": {
        "colab": {
          "base_uri": "https://localhost:8080/"
        },
        "id": "uTuGnHvYe2Wr",
        "outputId": "d33a77de-89e0-4f7d-da0d-951e346a51bc"
      },
      "execution_count": 23,
      "outputs": [
        {
          "output_type": "stream",
          "name": "stdout",
          "text": [
            " * sqlite:///zinduaschool\n",
            "Done.\n"
          ]
        },
        {
          "output_type": "execute_result",
          "data": {
            "text/plain": [
              "[]"
            ]
          },
          "metadata": {},
          "execution_count": 23
        }
      ]
    },
    {
      "cell_type": "code",
      "source": [
        "%%sql CREATE VIEW full_stud_details AS\n",
        "SELECT pd.*, sd.current_home_county, sd.secondary_school_county, sd.residence, cd.phone_number, cd.next_of_kin_name, cd.next_of_kin_relation, cd.next_of_kin_contacts, fd.sem_fee, fd.fee_paid\n",
        "FROM personal_details pd\n",
        "JOIN school_details sd ON pd.stud_ID = sd.stud_ID\n",
        "JOIN contact_details cd ON pd.stud_email = cd.stud_email\n",
        "JOIN financial_details fd ON pd.stud_ID = fd.stud_ID;"
      ],
      "metadata": {
        "colab": {
          "base_uri": "https://localhost:8080/"
        },
        "id": "1btLoCtEk_GA",
        "outputId": "405aeb6c-532d-43af-9bfe-9af6b97875ea"
      },
      "execution_count": 24,
      "outputs": [
        {
          "output_type": "stream",
          "name": "stdout",
          "text": [
            " * sqlite:///zinduaschool\n",
            "Done.\n"
          ]
        },
        {
          "output_type": "execute_result",
          "data": {
            "text/plain": [
              "[]"
            ]
          },
          "metadata": {},
          "execution_count": 24
        }
      ]
    },
    {
      "cell_type": "code",
      "source": [
        "%%sql UPDATE financial_details\n",
        "SET stud_name = (SELECT stud_name FROM personal_details WHERE personal_details.stud_ID = financial_details.stud_ID)\n",
        "WHERE stud_name IS NULL;"
      ],
      "metadata": {
        "colab": {
          "base_uri": "https://localhost:8080/"
        },
        "id": "yxFlrtMklMOH",
        "outputId": "88fd2d3f-0dd8-4940-b7d9-4a1addf1cce7"
      },
      "execution_count": 25,
      "outputs": [
        {
          "output_type": "stream",
          "name": "stdout",
          "text": [
            " * sqlite:///zinduaschool\n",
            "0 rows affected.\n"
          ]
        },
        {
          "output_type": "execute_result",
          "data": {
            "text/plain": [
              "[]"
            ]
          },
          "metadata": {},
          "execution_count": 25
        }
      ]
    },
    {
      "cell_type": "code",
      "source": [
        "%%sql CREATE VIEW financial_details_view AS\n",
        "SELECT *, fee_paid >= sem_fee AS fee_cleared\n",
        "FROM financial_details;"
      ],
      "metadata": {
        "colab": {
          "base_uri": "https://localhost:8080/"
        },
        "id": "_9hJST6TlZiJ",
        "outputId": "45573fe1-4c15-427b-aff7-aeaf051d0f45"
      },
      "execution_count": 26,
      "outputs": [
        {
          "output_type": "stream",
          "name": "stdout",
          "text": [
            " * sqlite:///zinduaschool\n",
            "Done.\n"
          ]
        },
        {
          "output_type": "execute_result",
          "data": {
            "text/plain": [
              "[]"
            ]
          },
          "metadata": {},
          "execution_count": 26
        }
      ]
    },
    {
      "cell_type": "code",
      "source": [
        "%%sql CREATE VIEW fee_cleared AS\n",
        "SELECT pd.national_ID, fd.stud_name\n",
        "FROM financial_details fd\n",
        "JOIN personal_details pd ON fd.stud_ID = pd.stud_ID\n",
        "WHERE fd.fee_paid >= fd.sem_fee;"
      ],
      "metadata": {
        "colab": {
          "base_uri": "https://localhost:8080/"
        },
        "id": "VRvviQNZlg0Z",
        "outputId": "fe614ec8-e95e-4ff1-fbf7-f81dcfe7f26f"
      },
      "execution_count": 27,
      "outputs": [
        {
          "output_type": "stream",
          "name": "stdout",
          "text": [
            " * sqlite:///zinduaschool\n",
            "Done.\n"
          ]
        },
        {
          "output_type": "execute_result",
          "data": {
            "text/plain": [
              "[]"
            ]
          },
          "metadata": {},
          "execution_count": 27
        }
      ]
    },
    {
      "cell_type": "code",
      "source": [
        "%%sql CREATE VIEW total_fee_balance AS\n",
        "SELECT SUM(fee_paid) AS total_fees_paid, SUM(sem_fee - fee_paid) AS total_current_deficit\n",
        "FROM financial_details;"
      ],
      "metadata": {
        "colab": {
          "base_uri": "https://localhost:8080/"
        },
        "id": "59cCC0PHlnZk",
        "outputId": "470fc4f6-d79a-4615-f8dd-3e6064ed5fa2"
      },
      "execution_count": 28,
      "outputs": [
        {
          "output_type": "stream",
          "name": "stdout",
          "text": [
            " * sqlite:///zinduaschool\n",
            "Done.\n"
          ]
        },
        {
          "output_type": "execute_result",
          "data": {
            "text/plain": [
              "[]"
            ]
          },
          "metadata": {},
          "execution_count": 28
        }
      ]
    },
    {
      "cell_type": "code",
      "source": [
        "%%sql CREATE VIEW home_county_count AS\n",
        "SELECT current_home_county, COUNT(*) AS student_count\n",
        "FROM school_details\n",
        "GROUP BY current_home_county;"
      ],
      "metadata": {
        "colab": {
          "base_uri": "https://localhost:8080/"
        },
        "id": "uEAdOipQltkK",
        "outputId": "3f18a865-2862-4bcc-af09-b75efa805dd0"
      },
      "execution_count": 29,
      "outputs": [
        {
          "output_type": "stream",
          "name": "stdout",
          "text": [
            " * sqlite:///zinduaschool\n",
            "Done.\n"
          ]
        },
        {
          "output_type": "execute_result",
          "data": {
            "text/plain": [
              "[]"
            ]
          },
          "metadata": {},
          "execution_count": 29
        }
      ]
    },
    {
      "cell_type": "code",
      "source": [
        "%%sql CREATE VIEW secondary_school_count AS\n",
        "SELECT secondary_school_county,\n",
        "       SUM(CASE WHEN gender = 'Male' THEN 1 ELSE 0 END) AS male_count,\n",
        "       SUM(CASE WHEN gender = 'Female' THEN 1 ELSE 0 END) AS female_count\n",
        "FROM school_details\n",
        "GROUP BY secondary_school_county;\n",
        "CREATE VIEW kin_percentage AS\n",
        "SELECT next_of_kin_relation,\n",
        "       (COUNT() / (SELECT COUNT() FROM contact_details)) * 100 AS percentage\n",
        "FROM contact_details\n",
        "GROUP BY next_of_kin_relation;"
      ],
      "metadata": {
        "colab": {
          "base_uri": "https://localhost:8080/"
        },
        "id": "H20o76cAl0FI",
        "outputId": "10ac49e0-3af5-40ea-d450-602d3e2527f9"
      },
      "execution_count": 30,
      "outputs": [
        {
          "output_type": "stream",
          "name": "stdout",
          "text": [
            " * sqlite:///zinduaschool\n",
            "Done.\n",
            "Done.\n"
          ]
        },
        {
          "output_type": "execute_result",
          "data": {
            "text/plain": [
              "[]"
            ]
          },
          "metadata": {},
          "execution_count": 30
        }
      ]
    }
  ]
}